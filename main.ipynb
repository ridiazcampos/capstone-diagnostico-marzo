{
 "cells": [
  {
   "cell_type": "markdown",
   "id": "590561f7",
   "metadata": {},
   "source": [
    "## Diagnóstico\n",
    "\n",
    "Raúl Diaz Campos | 1720688J | Sección 3"
   ]
  },
  {
   "cell_type": "code",
   "execution_count": 42,
   "id": "d81cf148",
   "metadata": {},
   "outputs": [],
   "source": [
    "import json"
   ]
  },
  {
   "cell_type": "code",
   "execution_count": 2,
   "id": "ad2246fa",
   "metadata": {},
   "outputs": [],
   "source": [
    "FILE = \"./farmers-protest-tweets-2021-03-5.json\""
   ]
  },
  {
   "cell_type": "code",
   "execution_count": 41,
   "id": "2d8c1417",
   "metadata": {},
   "outputs": [],
   "source": [
    "def get_tweets(FILE):\n",
    "    return [json.loads(tweet) for tweet in open(FILE)]"
   ]
  },
  {
   "cell_type": "code",
   "execution_count": 6,
   "id": "71fc6a4f",
   "metadata": {},
   "outputs": [],
   "source": [
    "tweets = get_tweets(FILE)"
   ]
  },
  {
   "cell_type": "code",
   "execution_count": 7,
   "id": "3c484a17",
   "metadata": {},
   "outputs": [],
   "source": [
    "# Primera función\n",
    "def retweeted_tweets(tweets):\n",
    "    def retweet(tweet):\n",
    "        return tweet[\"retweetCount\"]\n",
    "    \n",
    "    most_retweeted = []\n",
    "    \n",
    "    for tweet in tweets:\n",
    "            if len(most_retweeted) <= 9:\n",
    "                most_retweeted.append(tweet)\n",
    "                most_retweeted = sorted(most_retweeted, key=retweet)\n",
    "            else:\n",
    "                if most_retweeted[9][\"retweetCount\"] <= tweet[\"retweetCount\"]:\n",
    "                    most_retweeted.pop(0)\n",
    "                    most_retweeted.append(tweet)\n",
    "                elif most_retweeted[0][\"retweetCount\"] <= tweet[\"retweetCount\"]:\n",
    "                    most_retweeted.append(tweet)\n",
    "                    most_retweeted = sorted(most_retweeted, key=retweet)[1:]\n",
    "    return most_retweeted"
   ]
  },
  {
   "cell_type": "code",
   "execution_count": 44,
   "id": "6302e171",
   "metadata": {},
   "outputs": [
    {
     "data": {
      "text/plain": [
       "[{'tweet': 1356625889602199552, 'retweets': 315547},\n",
       " {'tweet': 1356694884615340037, 'retweets': 103957},\n",
       " {'tweet': 1357282507616645122, 'retweets': 67694},\n",
       " {'tweet': 1356848397899112448, 'retweets': 35921},\n",
       " {'tweet': 1356827705161879553, 'retweets': 26972},\n",
       " {'tweet': 1357048037302960129, 'retweets': 23251},\n",
       " {'tweet': 1357755699162398720, 'retweets': 20132},\n",
       " {'tweet': 1356681136655769605, 'retweets': 18744},\n",
       " {'tweet': 1357009721090138112, 'retweets': 17368},\n",
       " {'tweet': 1359013362881994752, 'retweets': 15677}]"
      ]
     },
     "execution_count": 44,
     "metadata": {},
     "output_type": "execute_result"
    }
   ],
   "source": [
    "[{\"tweet\": tweet[\"id\"], \"retweets\": tweet[\"retweetCount\"]} for tweet in retweeted_tweets(tweets)][::-1]"
   ]
  },
  {
   "cell_type": "code",
   "execution_count": null,
   "id": "bba6bcce",
   "metadata": {},
   "outputs": [],
   "source": [
    "# Segunda función\n",
    "def users_with_more_tweets(tweets):\n",
    "    pass"
   ]
  },
  {
   "cell_type": "code",
   "execution_count": null,
   "id": "2f92cc2c",
   "metadata": {},
   "outputs": [],
   "source": []
  },
  {
   "cell_type": "code",
   "execution_count": null,
   "id": "b4d75a36",
   "metadata": {},
   "outputs": [],
   "source": [
    "# Tercera función\n",
    "def days_with_more_tweets(tweets):\n",
    "    pass"
   ]
  },
  {
   "cell_type": "code",
   "execution_count": null,
   "id": "83f07cd9",
   "metadata": {},
   "outputs": [],
   "source": []
  },
  {
   "cell_type": "code",
   "execution_count": null,
   "id": "1484eaca",
   "metadata": {},
   "outputs": [],
   "source": [
    "# Cuarta función\n",
    "def hashtags_with_more_tweets(tweets):\n",
    "    pass"
   ]
  },
  {
   "cell_type": "code",
   "execution_count": null,
   "id": "3796d10a",
   "metadata": {},
   "outputs": [],
   "source": []
  },
  {
   "cell_type": "code",
   "execution_count": null,
   "id": "5a69f47d",
   "metadata": {},
   "outputs": [],
   "source": [
    "# Main\n",
    "def main():\n",
    "    pass"
   ]
  }
 ],
 "metadata": {
  "kernelspec": {
   "display_name": "Python 3 (ipykernel)",
   "language": "python",
   "name": "python3"
  },
  "language_info": {
   "codemirror_mode": {
    "name": "ipython",
    "version": 3
   },
   "file_extension": ".py",
   "mimetype": "text/x-python",
   "name": "python",
   "nbconvert_exporter": "python",
   "pygments_lexer": "ipython3",
   "version": "3.9.12"
  }
 },
 "nbformat": 4,
 "nbformat_minor": 5
}
