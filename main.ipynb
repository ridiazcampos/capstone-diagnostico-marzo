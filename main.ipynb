{
 "cells": [
  {
   "cell_type": "markdown",
   "id": "590561f7",
   "metadata": {},
   "source": [
    "## Diagnóstico\n",
    "\n",
    "Raúl Diaz Campos | 1720688J | Sección 3"
   ]
  },
  {
   "cell_type": "code",
   "execution_count": 34,
   "id": "d81cf148",
   "metadata": {},
   "outputs": [],
   "source": [
    "import json\n",
    "from pandas import DataFrame as df"
   ]
  },
  {
   "cell_type": "code",
   "execution_count": 2,
   "id": "ad2246fa",
   "metadata": {},
   "outputs": [],
   "source": [
    "FILE = \"./farmers-protest-tweets-2021-03-5.json\""
   ]
  },
  {
   "cell_type": "code",
   "execution_count": 38,
   "id": "2d8c1417",
   "metadata": {},
   "outputs": [],
   "source": [
    "def get_tweets(FILE):\n",
    "    return [json.loads(tweet) for tweet in open(FILE)]\n",
    "\n",
    "def show_results(results, keys=[]):\n",
    "    if not keys:\n",
    "        return df(results)\n",
    "    return df([{(a if type(a) != list else a[0]) : tweet[a] if type(a) != list else tweet[a[0]][a[1]] for a in keys} for tweet in results])"
   ]
  },
  {
   "cell_type": "code",
   "execution_count": 6,
   "id": "71fc6a4f",
   "metadata": {},
   "outputs": [],
   "source": [
    "tweets = get_tweets(FILE)"
   ]
  },
  {
   "cell_type": "code",
   "execution_count": 7,
   "id": "3c484a17",
   "metadata": {},
   "outputs": [],
   "source": [
    "# Primera función\n",
    "def retweeted_tweets(tweets):\n",
    "    def retweet(tweet):\n",
    "        return tweet[\"retweetCount\"]\n",
    "    \n",
    "    most_retweeted = []\n",
    "    \n",
    "    for tweet in tweets:\n",
    "            if len(most_retweeted) <= 9:\n",
    "                most_retweeted.append(tweet)\n",
    "                most_retweeted = sorted(most_retweeted, key=retweet)\n",
    "            else:\n",
    "                if most_retweeted[9][\"retweetCount\"] <= tweet[\"retweetCount\"]:\n",
    "                    most_retweeted.pop(0)\n",
    "                    most_retweeted.append(tweet)\n",
    "                elif most_retweeted[0][\"retweetCount\"] <= tweet[\"retweetCount\"]:\n",
    "                    most_retweeted.append(tweet)\n",
    "                    most_retweeted = sorted(most_retweeted, key=retweet)[1:]\n",
    "    return most_retweeted"
   ]
  },
  {
   "cell_type": "code",
   "execution_count": 39,
   "id": "9dd560aa",
   "metadata": {},
   "outputs": [
    {
     "data": {
      "text/html": [
       "<div>\n",
       "<style scoped>\n",
       "    .dataframe tbody tr th:only-of-type {\n",
       "        vertical-align: middle;\n",
       "    }\n",
       "\n",
       "    .dataframe tbody tr th {\n",
       "        vertical-align: top;\n",
       "    }\n",
       "\n",
       "    .dataframe thead th {\n",
       "        text-align: right;\n",
       "    }\n",
       "</style>\n",
       "<table border=\"1\" class=\"dataframe\">\n",
       "  <thead>\n",
       "    <tr style=\"text-align: right;\">\n",
       "      <th></th>\n",
       "      <th>id</th>\n",
       "      <th>content</th>\n",
       "      <th>user</th>\n",
       "      <th>retweetCount</th>\n",
       "    </tr>\n",
       "  </thead>\n",
       "  <tbody>\n",
       "    <tr>\n",
       "      <th>0</th>\n",
       "      <td>1359013362881994752</td>\n",
       "      <td>To all of my influencer/celeb friends- read up...</td>\n",
       "      <td>AmandaCerny</td>\n",
       "      <td>15677</td>\n",
       "    </tr>\n",
       "    <tr>\n",
       "      <th>1</th>\n",
       "      <td>1357009721090138112</td>\n",
       "      <td>Should be talking about this! #FarmersProtest\\...</td>\n",
       "      <td>kylekuzma</td>\n",
       "      <td>17368</td>\n",
       "    </tr>\n",
       "    <tr>\n",
       "      <th>2</th>\n",
       "      <td>1356681136655769605</td>\n",
       "      <td>Farmers feed the world. Fight for them. Protec...</td>\n",
       "      <td>vanessa_vash</td>\n",
       "      <td>18744</td>\n",
       "    </tr>\n",
       "    <tr>\n",
       "      <th>3</th>\n",
       "      <td>1357755699162398720</td>\n",
       "      <td>There has been much social media coverage arou...</td>\n",
       "      <td>BobBlackman</td>\n",
       "      <td>20132</td>\n",
       "    </tr>\n",
       "    <tr>\n",
       "      <th>4</th>\n",
       "      <td>1357048037302960129</td>\n",
       "      <td>Happy to share that I’ve donated $10,000 to pr...</td>\n",
       "      <td>TeamJuJu</td>\n",
       "      <td>23251</td>\n",
       "    </tr>\n",
       "    <tr>\n",
       "      <th>5</th>\n",
       "      <td>1356827705161879553</td>\n",
       "      <td>What in the human rights violations is going o...</td>\n",
       "      <td>miakhalifa</td>\n",
       "      <td>26972</td>\n",
       "    </tr>\n",
       "    <tr>\n",
       "      <th>6</th>\n",
       "      <td>1356848397899112448</td>\n",
       "      <td>“Paid actors,” huh? Quite the casting director...</td>\n",
       "      <td>miakhalifa</td>\n",
       "      <td>35921</td>\n",
       "    </tr>\n",
       "    <tr>\n",
       "      <th>7</th>\n",
       "      <td>1357282507616645122</td>\n",
       "      <td>I still #StandWithFarmers and support their pe...</td>\n",
       "      <td>GretaThunberg</td>\n",
       "      <td>67694</td>\n",
       "    </tr>\n",
       "    <tr>\n",
       "      <th>8</th>\n",
       "      <td>1356694884615340037</td>\n",
       "      <td>We stand in solidarity with the #FarmersProtes...</td>\n",
       "      <td>GretaThunberg</td>\n",
       "      <td>103957</td>\n",
       "    </tr>\n",
       "    <tr>\n",
       "      <th>9</th>\n",
       "      <td>1356625889602199552</td>\n",
       "      <td>why aren’t we talking about this?! #FarmersPro...</td>\n",
       "      <td>rihanna</td>\n",
       "      <td>315547</td>\n",
       "    </tr>\n",
       "  </tbody>\n",
       "</table>\n",
       "</div>"
      ],
      "text/plain": [
       "                    id                                            content  \\\n",
       "0  1359013362881994752  To all of my influencer/celeb friends- read up...   \n",
       "1  1357009721090138112  Should be talking about this! #FarmersProtest\\...   \n",
       "2  1356681136655769605  Farmers feed the world. Fight for them. Protec...   \n",
       "3  1357755699162398720  There has been much social media coverage arou...   \n",
       "4  1357048037302960129  Happy to share that I’ve donated $10,000 to pr...   \n",
       "5  1356827705161879553  What in the human rights violations is going o...   \n",
       "6  1356848397899112448  “Paid actors,” huh? Quite the casting director...   \n",
       "7  1357282507616645122  I still #StandWithFarmers and support their pe...   \n",
       "8  1356694884615340037  We stand in solidarity with the #FarmersProtes...   \n",
       "9  1356625889602199552  why aren’t we talking about this?! #FarmersPro...   \n",
       "\n",
       "            user  retweetCount  \n",
       "0    AmandaCerny         15677  \n",
       "1      kylekuzma         17368  \n",
       "2   vanessa_vash         18744  \n",
       "3    BobBlackman         20132  \n",
       "4       TeamJuJu         23251  \n",
       "5     miakhalifa         26972  \n",
       "6     miakhalifa         35921  \n",
       "7  GretaThunberg         67694  \n",
       "8  GretaThunberg        103957  \n",
       "9        rihanna        315547  "
      ]
     },
     "execution_count": 39,
     "metadata": {},
     "output_type": "execute_result"
    }
   ],
   "source": [
    "show_results(retweeted_tweets(tweets), [\"id\", \"content\", [\"user\", \"username\"], \"retweetCount\"])"
   ]
  },
  {
   "cell_type": "code",
   "execution_count": null,
   "id": "ba046a2c",
   "metadata": {},
   "outputs": [],
   "source": [
    "# Segunda función\n",
    "def users_with_more_tweets(tweets):\n",
    "    pass"
   ]
  },
  {
   "cell_type": "code",
   "execution_count": null,
   "id": "464a4d10",
   "metadata": {},
   "outputs": [],
   "source": []
  },
  {
   "cell_type": "code",
   "execution_count": null,
   "id": "6455c6b8",
   "metadata": {},
   "outputs": [],
   "source": [
    "# Tercera función\n",
    "def days_with_more_tweets(tweets):\n",
    "    pass"
   ]
  },
  {
   "cell_type": "code",
   "execution_count": null,
   "id": "01addfd2",
   "metadata": {},
   "outputs": [],
   "source": []
  },
  {
   "cell_type": "code",
   "execution_count": null,
   "id": "b5581565",
   "metadata": {},
   "outputs": [],
   "source": [
    "# Cuarta función\n",
    "def hashtags_with_more_tweets(tweets):\n",
    "    pass"
   ]
  },
  {
   "cell_type": "code",
   "execution_count": null,
   "id": "70bad66b",
   "metadata": {},
   "outputs": [],
   "source": []
  },
  {
   "cell_type": "code",
   "execution_count": null,
   "id": "87471f15",
   "metadata": {},
   "outputs": [],
   "source": [
    "# Main\n",
    "def main():\n",
    "    pass"
   ]
  }
 ],
 "metadata": {
  "kernelspec": {
   "display_name": "Python 3 (ipykernel)",
   "language": "python",
   "name": "python3"
  },
  "language_info": {
   "codemirror_mode": {
    "name": "ipython",
    "version": 3
   },
   "file_extension": ".py",
   "mimetype": "text/x-python",
   "name": "python",
   "nbconvert_exporter": "python",
   "pygments_lexer": "ipython3",
   "version": "3.9.12"
  }
 },
 "nbformat": 4,
 "nbformat_minor": 5
}
