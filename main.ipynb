{
 "cells": [
  {
   "cell_type": "markdown",
   "id": "590561f7",
   "metadata": {},
   "source": [
    "## Diagnóstico\n",
    "\n",
    "Raúl Diaz Campos | 1720688J | Sección 3"
   ]
  },
  {
   "cell_type": "code",
   "execution_count": 42,
   "id": "d81cf148",
   "metadata": {},
   "outputs": [],
   "source": [
    "import json"
   ]
  },
  {
   "cell_type": "code",
   "execution_count": 2,
   "id": "ad2246fa",
   "metadata": {},
   "outputs": [],
   "source": [
    "FILE = \"./farmers-protest-tweets-2021-03-5.json\""
   ]
  },
  {
   "cell_type": "code",
   "execution_count": 41,
   "id": "2d8c1417",
   "metadata": {},
   "outputs": [],
   "source": [
    "def get_tweets(FILE):\n",
    "    return [json.loads(tweet) for tweet in open(FILE)]"
   ]
  },
  {
   "cell_type": "code",
   "execution_count": 6,
   "id": "71fc6a4f",
   "metadata": {},
   "outputs": [],
   "source": [
    "tweets = get_tweets(FILE)"
   ]
  },
  {
   "cell_type": "code",
   "execution_count": 7,
   "id": "3c484a17",
   "metadata": {},
   "outputs": [],
   "source": [
    "# Primera función\n",
    "def retweeted_tweets(tweets):\n",
    "    def retweet(tweet):\n",
    "        return tweet[\"retweetCount\"]\n",
    "    \n",
    "    most_retweeted = []\n",
    "    \n",
    "    for tweet in tweets:\n",
    "            if len(most_retweeted) <= 9:\n",
    "                most_retweeted.append(tweet)\n",
    "                most_retweeted = sorted(most_retweeted, key=retweet)\n",
    "            else:\n",
    "                if most_retweeted[9][\"retweetCount\"] <= tweet[\"retweetCount\"]:\n",
    "                    most_retweeted.pop(0)\n",
    "                    most_retweeted.append(tweet)\n",
    "                elif most_retweeted[0][\"retweetCount\"] <= tweet[\"retweetCount\"]:\n",
    "                    most_retweeted.append(tweet)\n",
    "                    most_retweeted = sorted(most_retweeted, key=retweet)[1:]\n",
    "    return most_retweeted"
   ]
  },
  {
   "cell_type": "code",
   "execution_count": 44,
   "id": "6302e171",
   "metadata": {},
   "outputs": [
    {
     "data": {
      "text/plain": [
       "[{'tweet': 1356625889602199552, 'retweets': 315547},\n",
       " {'tweet': 1356694884615340037, 'retweets': 103957},\n",
       " {'tweet': 1357282507616645122, 'retweets': 67694},\n",
       " {'tweet': 1356848397899112448, 'retweets': 35921},\n",
       " {'tweet': 1356827705161879553, 'retweets': 26972},\n",
       " {'tweet': 1357048037302960129, 'retweets': 23251},\n",
       " {'tweet': 1357755699162398720, 'retweets': 20132},\n",
       " {'tweet': 1356681136655769605, 'retweets': 18744},\n",
       " {'tweet': 1357009721090138112, 'retweets': 17368},\n",
       " {'tweet': 1359013362881994752, 'retweets': 15677}]"
      ]
     },
     "execution_count": 44,
     "metadata": {},
     "output_type": "execute_result"
    }
   ],
   "source": [
    "[{\"tweet\": tweet[\"id\"], \"retweets\": tweet[\"retweetCount\"]} for tweet in retweeted_tweets(tweets)][::-1]"
   ]
  },
  {
   "cell_type": "code",
   "execution_count": 74,
   "id": "bba6bcce",
   "metadata": {},
   "outputs": [],
   "source": [
    "# Segunda función\n",
    "def users_with_more_tweets(tweets, statuses=False): # statuses=True indica que debemos obtener los tweets desde los datos\n",
    "    def more_tweets(user):\n",
    "        return user[\"statusesCount\"]\n",
    "    \n",
    "    if statuses:\n",
    "    \n",
    "        users = {}\n",
    "        with_more_tweets = []\n",
    "\n",
    "        for tweet in tweets:\n",
    "            if not tweet[\"user\"][\"id\"] in users:\n",
    "                users[tweet[\"user\"][\"id\"]] = tweet[\"user\"]\n",
    "                if len(with_more_tweets) <= 9:\n",
    "                      with_more_tweets.append(tweet[\"user\"])\n",
    "                      with_more_tweets = sorted(with_more_tweets, key=more_tweets)\n",
    "                else: \n",
    "                    if with_more_tweets[9][\"statusesCount\"] <= tweet[\"user\"][\"statusesCount\"]:\n",
    "                        with_more_tweets.pop(0)\n",
    "                        with_more_tweets.append(tweet[\"user\"])\n",
    "                    elif with_more_tweets[0][\"statusesCount\"] <= tweet[\"user\"][\"statusesCount\"]:\n",
    "                        with_more_tweets.append(tweet[\"user\"])\n",
    "                        with_more_tweets = sorted(with_more_tweets, key=more_tweets)[1:]\n",
    "        return with_more_tweets\n",
    "    \n",
    "    else:\n",
    "        \n",
    "        users = {}\n",
    "        with_more_tweets = []\n",
    "        \n",
    "        for tweet in tweets:\n",
    "            if tweet[\"user\"][\"id\"] in users:\n",
    "                users[tweet[\"user\"][\"id\"]][\"tweets\"] += 1\n",
    "                \n",
    "            else:\n",
    "                users[tweet[\"user\"][\"id\"]] = {k: tweet[\"user\"][k] for k in tweet[\"user\"]}\n",
    "                users[tweet[\"user\"][\"id\"]][\"tweets\"] = 1\n",
    "                                \n",
    "        return sorted([users[u] for u in users], key=lambda i: i[\"tweets\"])[-1:-10:-1]\n",
    "    \n",
    "    \n"
   ]
  },
  {
   "cell_type": "code",
   "execution_count": 75,
   "id": "2f92cc2c",
   "metadata": {},
   "outputs": [
    {
     "data": {
      "text/plain": [
       "[{'id': 980633168981061632, 'name': 'harjot_tweeting', 'tweets': 7134},\n",
       " {'id': 69027875, 'name': 'tasveersandhu', 'tweets': 2091},\n",
       " {'id': 2930682630, 'name': 'shells_n_petals', 'tweets': 1991},\n",
       " {'id': 452391771, 'name': 'jot__b', 'tweets': 1841},\n",
       " {'id': 1354532795847073796, 'name': 'rebelpacifist', 'tweets': 1806},\n",
       " {'id': 48085084, 'name': 'rumsomal', 'tweets': 1722},\n",
       " {'id': 872085660886282240, 'name': 'Iamjazzie96', 'tweets': 1502},\n",
       " {'id': 1340186972615307264, 'name': 'Jass_k_G', 'tweets': 1460},\n",
       " {'id': 1309302936317636608, 'name': 'DigitalKisanBot', 'tweets': 1453}]"
      ]
     },
     "execution_count": 75,
     "metadata": {},
     "output_type": "execute_result"
    }
   ],
   "source": [
    "[{\"id\": user[\"id\"], \"name\": user[\"username\"], \"tweets\": user[\"tweets\"]} for user in users_with_more_tweets(tweets)]"
   ]
  },
  {
   "cell_type": "code",
   "execution_count": 76,
   "id": "b4d75a36",
   "metadata": {},
   "outputs": [],
   "source": [
    "# Tercera función\n",
    "def days_with_more_tweets(tweets):\n",
    "    def more_tweets(day):\n",
    "        return day[\"tweets\"]\n",
    "    \n",
    "    days = {}\n",
    "    with_more_tweets = []\n",
    "    \n",
    "    for tweet in tweets:\n",
    "        tweet_date = tweet[\"date\"][:10]\n",
    "        if tweet_date in days:\n",
    "            days[tweet_date] += 1\n",
    "        else:\n",
    "            days[tweet_date] = 1\n",
    "                \n",
    "    for _day in days:\n",
    "        day = {\"date\": _day, \"tweets\": days[_day]}\n",
    "        if len(with_more_tweets) <= 9:\n",
    "              with_more_tweets.append(day)\n",
    "              with_more_tweets = sorted(with_more_tweets, key=more_tweets)\n",
    "        else: \n",
    "            if with_more_tweets[9][\"tweets\"] <= day[\"tweets\"]:\n",
    "                with_more_tweets.pop(0)\n",
    "                with_more_tweets.append(day)\n",
    "            elif with_more_tweets[0][\"tweets\"] <= day[\"tweets\"]:\n",
    "                with_more_tweets.append(day)\n",
    "                with_more_tweets = sorted(with_more_tweets, key=more_tweets)[1:]\n",
    "\n",
    "    \n",
    "    return with_more_tweets"
   ]
  },
  {
   "cell_type": "code",
   "execution_count": null,
   "id": "83f07cd9",
   "metadata": {},
   "outputs": [],
   "source": [
    "[day for tweet in days_with_more_tweets(tweets)]"
   ]
  },
  {
   "cell_type": "code",
   "execution_count": null,
   "id": "1484eaca",
   "metadata": {},
   "outputs": [],
   "source": [
    "# Cuarta función\n",
    "def hashtags_with_more_tweets(tweets):\n",
    "    pass"
   ]
  },
  {
   "cell_type": "code",
   "execution_count": null,
   "id": "3796d10a",
   "metadata": {},
   "outputs": [],
   "source": []
  },
  {
   "cell_type": "code",
   "execution_count": null,
   "id": "5a69f47d",
   "metadata": {},
   "outputs": [],
   "source": [
    "# Main\n",
    "def main():\n",
    "    pass"
   ]
  }
 ],
 "metadata": {
  "kernelspec": {
   "display_name": "Python 3 (ipykernel)",
   "language": "python",
   "name": "python3"
  },
  "language_info": {
   "codemirror_mode": {
    "name": "ipython",
    "version": 3
   },
   "file_extension": ".py",
   "mimetype": "text/x-python",
   "name": "python",
   "nbconvert_exporter": "python",
   "pygments_lexer": "ipython3",
   "version": "3.9.12"
  }
 },
 "nbformat": 4,
 "nbformat_minor": 5
}
